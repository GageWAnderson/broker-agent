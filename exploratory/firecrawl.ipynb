{
 "cells": [
  {
   "cell_type": "code",
   "execution_count": 1,
   "metadata": {},
   "outputs": [],
   "source": [
    "import asyncio\n",
    "from crawl4ai import (\n",
    "    LLMExtractionStrategy,\n",
    "    CrawlerRunConfig,\n",
    "    AsyncWebCrawler,\n",
    "    BrowserConfig,\n",
    "    CacheMode,\n",
    "    CrawlResult,\n",
    ")\n",
    "from pydantic import BaseModel"
   ]
  },
  {
   "cell_type": "code",
   "execution_count": 2,
   "metadata": {},
   "outputs": [],
   "source": [
    "class ApartmentExtractionSchema(BaseModel):\n",
    "    address: str\n",
    "    price: str\n",
    "    bedrooms: int\n",
    "    bathrooms: int\n",
    "    square_feet: int\n",
    "    description: str\n",
    "    amenities: list[str]\n",
    "    # images: list[str] # TODO: Can the LLM handle URls directly?\n",
    "    # url: str\n",
    "    # source: str"
   ]
  },
  {
   "cell_type": "code",
   "execution_count": 3,
   "metadata": {},
   "outputs": [],
   "source": [
    "async def main():\n",
    "    llm_strat = LLMExtractionStrategy(\n",
    "        provider=\"ollama/deepseek-r1:70b\",\n",
    "        schema=ApartmentExtractionSchema,\n",
    "        extraction_type=\"schema\",\n",
    "        instruction=\"Extract entities from the following apartment listing page. Return the entities in a JSON format.\",\n",
    "        chunk_token_threshold=800,\n",
    "        apply_chunking=True,\n",
    "        input_format=\"html\",\n",
    "    )\n",
    "\n",
    "    crawl_config = CrawlerRunConfig(\n",
    "        extraction_strategy=llm_strat,\n",
    "        cache_mode=CacheMode.BYPASS,\n",
    "    )\n",
    "\n",
    "    async with AsyncWebCrawler(config=BrowserConfig(headless=False)) as crawler:\n",
    "        res = await crawler.arun(\n",
    "            url=\"https://www.apartments.com/new-york-ny/\",\n",
    "            config=crawl_config,\n",
    "        )\n",
    "\n",
    "        if isinstance(res, CrawlResult) and res.success:\n",
    "            with open(\"res.json\", \"w\", encoding=\"utf-8\") as f:\n",
    "                f.write(res.extracted_content)\n",
    "        else:\n",
    "            raise ValueError(\"Failed to crawl the page\", res.error_message)"
   ]
  },
  {
   "cell_type": "code",
   "execution_count": 4,
   "metadata": {},
   "outputs": [
    {
     "ename": "RuntimeError",
     "evalue": "asyncio.run() cannot be called from a running event loop",
     "output_type": "error",
     "traceback": [
      "\u001b[31m---------------------------------------------------------------------------\u001b[39m",
      "\u001b[31mRuntimeError\u001b[39m                              Traceback (most recent call last)",
      "\u001b[36mCell\u001b[39m\u001b[36m \u001b[39m\u001b[32mIn[4]\u001b[39m\u001b[32m, line 1\u001b[39m\n\u001b[32m----> \u001b[39m\u001b[32m1\u001b[39m \u001b[43masyncio\u001b[49m\u001b[43m.\u001b[49m\u001b[43mrun\u001b[49m\u001b[43m(\u001b[49m\u001b[43mmain\u001b[49m\u001b[43m(\u001b[49m\u001b[43m)\u001b[49m\u001b[43m)\u001b[49m\n",
      "\u001b[36mFile \u001b[39m\u001b[32m~/miniconda3/envs/broker_agent/lib/python3.13/asyncio/runners.py:191\u001b[39m, in \u001b[36mrun\u001b[39m\u001b[34m(main, debug, loop_factory)\u001b[39m\n\u001b[32m    161\u001b[39m \u001b[38;5;250m\u001b[39m\u001b[33;03m\"\"\"Execute the coroutine and return the result.\u001b[39;00m\n\u001b[32m    162\u001b[39m \n\u001b[32m    163\u001b[39m \u001b[33;03mThis function runs the passed coroutine, taking care of\u001b[39;00m\n\u001b[32m   (...)\u001b[39m\u001b[32m    187\u001b[39m \u001b[33;03m    asyncio.run(main())\u001b[39;00m\n\u001b[32m    188\u001b[39m \u001b[33;03m\"\"\"\u001b[39;00m\n\u001b[32m    189\u001b[39m \u001b[38;5;28;01mif\u001b[39;00m events._get_running_loop() \u001b[38;5;129;01mis\u001b[39;00m \u001b[38;5;129;01mnot\u001b[39;00m \u001b[38;5;28;01mNone\u001b[39;00m:\n\u001b[32m    190\u001b[39m     \u001b[38;5;66;03m# fail fast with short traceback\u001b[39;00m\n\u001b[32m--> \u001b[39m\u001b[32m191\u001b[39m     \u001b[38;5;28;01mraise\u001b[39;00m \u001b[38;5;167;01mRuntimeError\u001b[39;00m(\n\u001b[32m    192\u001b[39m         \u001b[33m\"\u001b[39m\u001b[33masyncio.run() cannot be called from a running event loop\u001b[39m\u001b[33m\"\u001b[39m)\n\u001b[32m    194\u001b[39m \u001b[38;5;28;01mwith\u001b[39;00m Runner(debug=debug, loop_factory=loop_factory) \u001b[38;5;28;01mas\u001b[39;00m runner:\n\u001b[32m    195\u001b[39m     \u001b[38;5;28;01mreturn\u001b[39;00m runner.run(main)\n",
      "\u001b[31mRuntimeError\u001b[39m: asyncio.run() cannot be called from a running event loop"
     ]
    }
   ],
   "source": [
    "asyncio.run(main())"
   ]
  }
 ],
 "metadata": {
  "kernelspec": {
   "display_name": "broker_agent",
   "language": "python",
   "name": "python3"
  },
  "language_info": {
   "codemirror_mode": {
    "name": "ipython",
    "version": 3
   },
   "file_extension": ".py",
   "mimetype": "text/x-python",
   "name": "python",
   "nbconvert_exporter": "python",
   "pygments_lexer": "ipython3",
   "version": "3.13.2"
  }
 },
 "nbformat": 4,
 "nbformat_minor": 2
}

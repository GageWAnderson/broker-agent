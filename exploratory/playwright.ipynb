{
 "cells": [
  {
   "cell_type": "markdown",
   "metadata": {},
   "source": [
    "# Broker Agent Experimental Code\n",
    "This is a notebook for exploring the codebase and testing ideas.\n",
    "Goal is the make sure we can connect to a website and scrape/browse/interact with the page."
   ]
  },
  {
   "cell_type": "code",
   "execution_count": 4,
   "metadata": {},
   "outputs": [],
   "source": [
    "import playwright\n",
    "from broker_agent.config.config import config"
   ]
  },
  {
   "cell_type": "code",
   "execution_count": 5,
   "metadata": {},
   "outputs": [
    {
     "data": {
      "text/plain": [
       "'BSAT-i__sE9Ae7N9zjVfCGNyG8_gJOL'"
      ]
     },
     "execution_count": 5,
     "metadata": {},
     "output_type": "execute_result"
    }
   ],
   "source": [
    "config.websites\n",
    "config.BRAVE_API_KEY"
   ]
  }
 ],
 "metadata": {
  "kernelspec": {
   "display_name": "broker_agent",
   "language": "python",
   "name": "python3"
  },
  "language_info": {
   "codemirror_mode": {
    "name": "ipython",
    "version": 3
   },
   "file_extension": ".py",
   "mimetype": "text/x-python",
   "name": "python",
   "nbconvert_exporter": "python",
   "pygments_lexer": "ipython3",
   "version": "3.13.2"
  }
 },
 "nbformat": 4,
 "nbformat_minor": 2
}
